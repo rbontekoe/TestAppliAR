{
 "cells": [
  {
   "cell_type": "markdown",
   "metadata": {},
   "source": [
    "## Using the Bukdu Webserver Framework\n",
    "\n",
    "*This notebook shows how to run a website that accesses data from two Docker containers.*\n",
    "\n",
    "##### Prerequisites\n",
    "\n",
    "- Ubuntu 20.04.\n",
    "- [Julia 1.5.3](https://www.appligate.nl/BAWJ/stable/appendix/#Install-Julia).\n",
    "- [IJulia package](https://www.appligate.nl/BAWJ/stable/appendix/#Install-IJulia) added.\n",
    "- The packages Bukdu, Distributed, DataFrames, and Query added.\n",
    "- The package AppliAR added (`add https://github.com/rbontekoe/AppliAR.jl`).\n",
    "- [Docker](https://www.appligate.nl/BAWJ/stable/appendix/#Install-Docker) installed.\n",
    "- The two docker containers `test_sshd` and `test_sshd2` created according to the course [BAWJ chapter 13](https://www.appligate.nl/BAWJ/stable/chapter13/).\n",
    "- The GitHub project TestAppliAR cloned (`git clone https://github.com/rbontekoe/TestAppliAR.git`).\n",
    "- The packages AppliSales, AppliGeneralLedger, AppliAR, and Query have also been added to the two containers.\n",
    "- The data files have been created by running the notebook ar.ipynb.\n",
    "\n",
    "The notebook consists of three sections:\n",
    "- [Section 1 - Start and connect to the containers test_sshd and test_sshd2](#Section-1-\\--Start-and-connect-to-the-containers-test_sshd-and-test_sshd2).\n",
    "- [Section 2 - Configure and start the website](#Section-2-\\--Configure-and-start-the-website).\n",
    "- [Section 3 - Utilities and Code Examples](#Section-3-\\--Utilities-and-Code-Examples).\n",
    "\n",
    "You can also run the code of sections 1 and 2 in a Docker container, see the course [BAWJ, chapter 15](https://www.appligate.nl/BAWJ/stable/chapter15/).\n",
    "\n",
    "**Note**: First run the notebook ar.ipynb to create the **data files**\n",
    " in the containers test_sshd and test_sshd2!"
   ]
  },
  {
   "cell_type": "code",
   "execution_count": 1,
   "metadata": {
    "scrolled": true
   },
   "outputs": [
    {
     "name": "stderr",
     "output_type": "stream",
     "text": [
      "\u001b[32m\u001b[1m Activating\u001b[22m\u001b[39m environment at `~/projects/TestAppliAR/Project.toml`\n"
     ]
    }
   ],
   "source": [
    "using Pkg; Pkg.activate(\".\") # activate the local environment"
   ]
  },
  {
   "cell_type": "code",
   "execution_count": 2,
   "metadata": {},
   "outputs": [],
   "source": [
    "using Bukdu, Distributed, DataFrames, Query, Dates"
   ]
  },
  {
   "cell_type": "markdown",
   "metadata": {},
   "source": [
    "## Section 1 \\- Start and connect to the containers test_sshd and test_sshd2\n",
    "\n",
    "In this section:\n",
    "- [Start the containers](#Start-the-containers)\n",
    "- [Get the IP-addresses of the containers](#Get-the-IP\\-addresses-of-the-containers)\n",
    "- [Connect to the Docker containers](#Connect-to-the-Docker-containers)\n",
    "- [Test the connection](#Test-the-connection)\n",
    "\n",
    "[*back*](#Using-the-Bukdu-Webserver-Framework)"
   ]
  },
  {
   "cell_type": "markdown",
   "metadata": {},
   "source": [
    "### Start the containers \n",
    "[*back*](#Section-1-\\--Start-and-connect-to-the-containers-test_sshd-and-test_sshd2)"
   ]
  },
  {
   "cell_type": "code",
   "execution_count": 3,
   "metadata": {},
   "outputs": [
    {
     "name": "stdout",
     "output_type": "stream",
     "text": [
      "test_sshd\n",
      "test_sshd2\n"
     ]
    }
   ],
   "source": [
    "cmd = `docker restart test_sshd test_sshd2`; run(cmd);"
   ]
  },
  {
   "cell_type": "markdown",
   "metadata": {},
   "source": [
    "### Get the IP\\-addresses of the containers \n",
    "[*back*](#Section-1-\\--Start-and-connect-to-the-containers-test_sshd-and-test_sshd2)"
   ]
  },
  {
   "cell_type": "code",
   "execution_count": 4,
   "metadata": {},
   "outputs": [
    {
     "name": "stdout",
     "output_type": "stream",
     "text": [
      "ip_sshd = \"172.17.0.2\"\n",
      "ip_sshd2 = \"172.17.0.3\"\n"
     ]
    }
   ],
   "source": [
    "cmd_sshd = `docker inspect -f '{{ .NetworkSettings.IPAddress }}' test_sshd`; ip_sshd = read(cmd_sshd, String)\n",
    "cmd_sshd2 = `docker inspect -f '{{ .NetworkSettings.IPAddress }}' test_sshd2`; ip_sshd2 = read(cmd_sshd2, String)\n",
    "# strip \\n\n",
    "ip_sshd = ip_sshd[1:length(ip_sshd)-1]; ip_sshd2 = ip_sshd2[1:length(ip_sshd2)-1]\n",
    "@show(ip_sshd); @show(ip_sshd2);"
   ]
  },
  {
   "cell_type": "markdown",
   "metadata": {},
   "source": [
    "### Connect to the Docker containers \n",
    "\n",
    "The course [BAWJ](https://www.appligate.nl/BAWJ/stable/chapter13/#.-Creating-SSH-Enabled-Containers) shows how to create the containers. Every container runs on a separate processor core.\n",
    "\n",
    "[*back*](#Section-1-\\--Start-and-connect-to-the-containers-test_sshd-and-test_sshd2)"
   ]
  },
  {
   "cell_type": "code",
   "execution_count": 5,
   "metadata": {},
   "outputs": [
    {
     "name": "stdout",
     "output_type": "stream",
     "text": [
      "gl_pid = 2\n",
      "ar_pid = 3\n"
     ]
    }
   ],
   "source": [
    "addprocs([(\"rob@\" * ip_sshd, 1)]; exeflags=`--project=$(Base.active_project())`, tunnel=true, dir=\"/home/rob\")\n",
    "addprocs([(\"rob@\" * ip_sshd2, 1)]; exeflags=`--project=$(Base.active_project())`, tunnel=true, dir=\"/home/rob\")\n",
    "gl_pid = procs()[2] # general ledger\n",
    "ar_pid = procs()[3] # accounts receivable (invoices/bankstatements)\n",
    "@show(gl_pid); @show(ar_pid);"
   ]
  },
  {
   "cell_type": "markdown",
   "metadata": {},
   "source": [
    "### Check whether the data files are available\n",
    "\n",
    "In the containers, you should add to Julia the next packages.\n",
    "- AppliSales\n",
    "- AppliGeneralLedger\n",
    "- AppliAR (add https://github.com/rbontekoe/AppliAR.jl)\n",
    "- Query\n",
    "\n",
    "Run first notebook ar.ipynb to create the data files."
   ]
  },
  {
   "cell_type": "code",
   "execution_count": 6,
   "metadata": {},
   "outputs": [
    {
     "name": "stdout",
     "output_type": "stream",
     "text": [
      "test_sshd is OK\n",
      "test_sshd2 is OK\n"
     ]
    }
   ],
   "source": [
    "cmd = `ssh rob@$ip_sshd \\ ls test\\*`; files = readlines(cmd)\n",
    "files[1] == \"test_journal.txt\" && files[2] == \"test_ledger.txt\" ? println(\"test_sshd is OK\") : println(\"test_sshd is not OK\")\n",
    "cmd = `ssh rob@$ip_sshd2 \\ ls test\\* invoicenbr.txt`; files = readlines(cmd)\n",
    "files[1] == \"invoicenbr.txt\" && files[2] == \"test_invoicing.txt\" && files[3] == \"test_invoicing_paid.txt\" ? println(\"test_sshd2 is OK\") : println(\"test_sshd2 is not OK\")"
   ]
  },
  {
   "cell_type": "markdown",
   "metadata": {},
   "source": [
    "### Load the packages in the containers and locally"
   ]
  },
  {
   "cell_type": "code",
   "execution_count": 7,
   "metadata": {},
   "outputs": [],
   "source": [
    "@everywhere using AppliSales\n",
    "@everywhere using AppliGeneralLedger\n",
    "@everywhere using AppliAR\n",
    "@everywhere using Query"
   ]
  },
  {
   "cell_type": "markdown",
   "metadata": {},
   "source": [
    "### Test the connection\n",
    "\n",
    "You should see the aging report listing the status of Scrooge Investment Bank.\n",
    "\n",
    "[*back*](#Section-1-\\--Start-and-connect-to-the-containers-test_sshd-and-test_sshd2)"
   ]
  },
  {
   "cell_type": "code",
   "execution_count": 8,
   "metadata": {},
   "outputs": [
    {
     "data": {
      "text/html": [
       "<table class=\"data-frame\"><thead><tr><th></th><th>id_inv</th><th>csm</th><th>inv_date</th><th>amount</th><th>days</th></tr><tr><th></th><th>String</th><th>String</th><th>Date</th><th>Float64</th><th>Day</th></tr></thead><tbody><p>1 rows × 5 columns</p><tr><th>1</th><td>A1001</td><td>Scrooge Investment Bank</td><td>Date(\"2021-01-22\")</td><td>1210.0</td><td>Day(10)</td></tr></tbody></table>"
      ],
      "text/latex": [
       "\\begin{tabular}{r|ccccc}\n",
       "\t& id\\_inv & csm & inv\\_date & amount & days\\\\\n",
       "\t\\hline\n",
       "\t& String & String & Date & Float64 & Day\\\\\n",
       "\t\\hline\n",
       "\t1 & A1001 & Scrooge Investment Bank & Date(\"2021-01-22\") & 1210.0 & Day(10) \\\\\n",
       "\\end{tabular}\n"
      ],
      "text/plain": [
       "1×5 DataFrame. Omitted printing of 1 columns\n",
       "│ Row │ id_inv │ csm                     │ inv_date           │ amount  │\n",
       "│     │ \u001b[90mString\u001b[39m │ \u001b[90mString\u001b[39m                  │ \u001b[90mDate\u001b[39m               │ \u001b[90mFloat64\u001b[39m │\n",
       "├─────┼────────┼─────────────────────────┼────────────────────┼─────────┤\n",
       "│ 1   │ A1001  │ Scrooge Investment Bank │ Date(\"2021-01-22\") │ 1210.0  │"
      ]
     },
     "execution_count": 8,
     "metadata": {},
     "output_type": "execute_result"
    }
   ],
   "source": [
    "ar = @fetchfrom ar_pid report()\n",
    "ar |> DataFrame"
   ]
  },
  {
   "cell_type": "markdown",
   "metadata": {},
   "source": [
    "## Section 2 \\- Configure and start the website\n",
    "\n",
    "The website is created with the Julia package [Bukdu](https://wookay.github.io/docs/Bukdu.jl/).\n",
    "\n",
    "In this section:\n",
    "\n",
    "- [Define the controller](#Define-the-controller)\n",
    "- [Load the functions](#Load-the-functions)\n",
    "- [Define the routes](#Define-the-routes)\n",
    "- [Start the server](#Start-the-server)\n",
    "\n",
    "[*back*](#Using-the-Bukdu-Webserver-Framework)"
   ]
  },
  {
   "cell_type": "markdown",
   "metadata": {},
   "source": [
    "### Define the controller\n",
    "\n",
    "You can give the controller object any name but must be inherited from the abstract type ApplicationController. The variable `conn` gives you access to the request and response object.\n",
    "\n",
    "[*back*](#Section-2-\\--Configure-and-start-the-website)"
   ]
  },
  {
   "cell_type": "code",
   "execution_count": 9,
   "metadata": {},
   "outputs": [],
   "source": [
    "struct WebController <: ApplicationController\n",
    "    conn::Conn\n",
    "end"
   ]
  },
  {
   "cell_type": "markdown",
   "metadata": {},
   "source": [
    "### Load the functions\n",
    "\n",
    "The functions in this example are from the file `functions.jl`. They all need the object WebController as an argument, except for the function template.\n",
    "\n",
    "- template(t::String), the Bootstrap template.\n",
    "- index(c::WebController)\n",
    "- aging_report(c::WebController)\n",
    "\n",
    "[*back*](#Section-2-\\--Configure-and-start-the-website)\n",
    "\n",
    "#### The function template\n",
    "\n",
    "In the template, we use Bootstrap.\n",
    "\n",
    "'Very often, especially on small screens, you want to hide the navigation links and replace them with a button that should reveal them when clicked on.'\n",
    "\n",
    "See w3schools.com: [Collapsing The Navigation Bar](https://www.w3schools.com/bootstrap4/tryit.asp?filename=trybs_navbar_collapse)\n",
    "\n",
    "##### Example, the index function\n",
    "\n",
    "The output of the index function is passed as an argument in the template.\n",
    "\n",
    "```\n",
    "function index(c::WebController)\n",
    "    render(HTML, template(\"\"\"\n",
    "    <h2>Hello World!</h2>\n",
    "    <p>This is the example from the course <a href='https://www.appligate.nl/BAWJ/stable/'>BAWJ</a>. In \n",
    "    chapter 13 the student learns to create two Docker containers. The containers are used in the\n",
    "    website.</p>\n",
    "    <p>The website can also started from a \n",
    "    <a href='https://github.com/rbontekoe/AppliAR.jl/blob/master/website.ipynb'>IJulia Notebook</a>. This \n",
    "    gives the user more opportunities to experiment.<p>\n",
    "    \"\"\"))\n",
    "end\n",
    "```"
   ]
  },
  {
   "cell_type": "code",
   "execution_count": 10,
   "metadata": {},
   "outputs": [],
   "source": [
    "include(\"functions.jl\");"
   ]
  },
  {
   "cell_type": "markdown",
   "metadata": {},
   "source": [
    "### Define the routes\n",
    "\n",
    "[*back*](#Section-2-\\--Configure-and-start-the-website)"
   ]
  },
  {
   "cell_type": "code",
   "execution_count": 11,
   "metadata": {},
   "outputs": [],
   "source": [
    "routes() do\n",
    "  get(\"/\", WebController, index) # the index function is defined in the file functions.jl\n",
    "  get(\"/agingreport\", WebController, aging_report)\n",
    "  get(\"/gl\", WebController, gl)\n",
    "  plug(Plug.Static, at=\"/\", from=normpath(@__DIR__, \"public\")) # favicon.ico is in public folder\n",
    "end;"
   ]
  },
  {
   "cell_type": "markdown",
   "metadata": {},
   "source": [
    "### Start the server\n",
    "\n",
    "After starting the web server go to `127.0.0.1:8004`.\n",
    "\n",
    "The webserver listens at port 8004. This port must be opened in Ubuntu if the website is approached from outside your computer.\n",
    "- sudo ufw -h\n",
    "- sudo ufw status\n",
    "- sudo ufw enable\n",
    "- sudo ufw allow 8004/tcp\n",
    "\n",
    "Use `ipconfig` to find your local ip address of your computer, e.g. [192.168.1.35](http://192.168.2.12).\n",
    "\n",
    "[*back*](#Section-2-\\--Configure-and-start-the-website)"
   ]
  },
  {
   "cell_type": "code",
   "execution_count": 12,
   "metadata": {},
   "outputs": [
    {
     "name": "stdout",
     "output_type": "stream",
     "text": [
      "Bukdu Listening on \u001b[32m0.0.0.0:8004\u001b[39m\n",
      "\u001b[36mINFO:\u001b[39m\u001b[0m \u001b[0mGET    \u001b[0m \u001b[0mWeb\u001b[38;5;248mController\u001b[39m\u001b[0m       \u001b[0mindex           \u001b[0m200\u001b[0m /\n",
      "\u001b[36mINFO:\u001b[39m\u001b[0m \u001b[0mGET    \u001b[0m \u001b[0mStatic\u001b[38;5;248mController\u001b[39m\u001b[0m    \u001b[0mreadfile        \u001b[0m200\u001b[0m /logo.png\n"
     ]
    }
   ],
   "source": [
    "Bukdu.start(8004, host=\"0.0.0.0\");"
   ]
  },
  {
   "cell_type": "markdown",
   "metadata": {},
   "source": [
    "## Section 3 - Utilities and Code Examples\n",
    "\n",
    "In this section:\n",
    "\n",
    "- [Stop the webserver](#Stop-the-webserver)\n",
    "- [Playing with the General Ledger accounts](#Playing-with-the-General-Ledger-accounts)\n",
    "- [Example with query operators](#Example-with-query-operators)\n",
    "\n",
    "[*back*](#Using-the-Bukdu-Webserver-Framework)"
   ]
  },
  {
   "cell_type": "markdown",
   "metadata": {},
   "source": [
    "### Stop the webserver\n",
    "\n",
    "The command stops the website. The connections to the Docker containers remain intact.\n",
    "\n",
    "[*back*](#Section-3-\\--Utilities-and-Code-Examples)"
   ]
  },
  {
   "cell_type": "code",
   "execution_count": 14,
   "metadata": {},
   "outputs": [],
   "source": [
    "#Bukdu.stop() # uncomment this line"
   ]
  },
  {
   "cell_type": "markdown",
   "metadata": {},
   "source": [
    "### Playing with the General Ledger accounts\n",
    "- 1150 - Bank\n",
    "- 1300 - Accounts Receivable\n",
    "- 4000 - VAT\n",
    "- 8000 - Sales\n",
    "\n",
    "[*back*](#Section-3-\\--Utilities-and-Code-Examples)\n",
    "\n",
    "See <a href='https://en.wikibooks.org/wiki/Introducing_Julia/DataFrames'>Introducing Julia/DataFrames</a>"
   ]
  },
  {
   "cell_type": "code",
   "execution_count": 15,
   "metadata": {},
   "outputs": [
    {
     "data": {
      "text/plain": [
       "1300"
      ]
     },
     "execution_count": 15,
     "metadata": {},
     "output_type": "execute_result"
    }
   ],
   "source": [
    "gl_account_id = 1300"
   ]
  },
  {
   "cell_type": "code",
   "execution_count": 16,
   "metadata": {},
   "outputs": [
    {
     "data": {
      "text/html": [
       "<table class=\"data-frame\"><thead><tr><th></th><th>id</th><th>accountid</th><th>date</th><th>customerid</th></tr><tr><th></th><th>String</th><th>Int64</th><th>DateTime</th><th>String</th></tr></thead><tbody><p>5 rows × 8 columns (omitted printing of 4 columns)</p><tr><th>1</th><td>2021-01-22-1006</td><td>1300</td><td>DateTime(\"2021-01-22T11:02:32.875\")</td><td>Scrooge Investment Bank</td></tr><tr><th>2</th><td>2021-01-22-1007</td><td>1300</td><td>DateTime(\"2021-01-22T11:02:32.878\")</td><td>Duck City Chronicals</td></tr><tr><th>3</th><td>2021-01-22-1008</td><td>1300</td><td>DateTime(\"2021-01-22T11:02:32.88\")</td><td>Donalds Hardware Store</td></tr><tr><th>4</th><td>2021-01-22-1009</td><td>1300</td><td>DateTime(\"2021-01-22T11:02:35.618\")</td><td>Duck City Chronicals</td></tr><tr><th>5</th><td>2021-01-22-1010</td><td>1300</td><td>DateTime(\"2021-01-22T11:02:35.621\")</td><td>Donalds Hardware Store</td></tr></tbody></table>"
      ],
      "text/latex": [
       "\\begin{tabular}{r|ccccc}\n",
       "\t& id & accountid & date & customerid & \\\\\n",
       "\t\\hline\n",
       "\t& String & Int64 & DateTime & String & \\\\\n",
       "\t\\hline\n",
       "\t1 & 2021-01-22-1006 & 1300 & DateTime(\"2021-01-22T11:02:32.875\") & Scrooge Investment Bank & $\\dots$ \\\\\n",
       "\t2 & 2021-01-22-1007 & 1300 & DateTime(\"2021-01-22T11:02:32.878\") & Duck City Chronicals & $\\dots$ \\\\\n",
       "\t3 & 2021-01-22-1008 & 1300 & DateTime(\"2021-01-22T11:02:32.88\") & Donalds Hardware Store & $\\dots$ \\\\\n",
       "\t4 & 2021-01-22-1009 & 1300 & DateTime(\"2021-01-22T11:02:35.618\") & Duck City Chronicals & $\\dots$ \\\\\n",
       "\t5 & 2021-01-22-1010 & 1300 & DateTime(\"2021-01-22T11:02:35.621\") & Donalds Hardware Store & $\\dots$ \\\\\n",
       "\\end{tabular}\n"
      ],
      "text/plain": [
       "5×8 DataFrame. Omitted printing of 5 columns\n",
       "│ Row │ id              │ accountid │ date                                │\n",
       "│     │ \u001b[90mString\u001b[39m          │ \u001b[90mInt64\u001b[39m     │ \u001b[90mDateTime\u001b[39m                            │\n",
       "├─────┼─────────────────┼───────────┼─────────────────────────────────────┤\n",
       "│ 1   │ 2021-01-22-1006 │ 1300      │ DateTime(\"2021-01-22T11:02:32.875\") │\n",
       "│ 2   │ 2021-01-22-1007 │ 1300      │ DateTime(\"2021-01-22T11:02:32.878\") │\n",
       "│ 3   │ 2021-01-22-1008 │ 1300      │ DateTime(\"2021-01-22T11:02:32.88\")  │\n",
       "│ 4   │ 2021-01-22-1009 │ 1300      │ DateTime(\"2021-01-22T11:02:35.618\") │\n",
       "│ 5   │ 2021-01-22-1010 │ 1300      │ DateTime(\"2021-01-22T11:02:35.621\") │"
      ]
     },
     "execution_count": 16,
     "metadata": {},
     "output_type": "execute_result"
    }
   ],
   "source": [
    "ledger = @fetchfrom gl_pid AppliGeneralLedger.read_from_file(\"./test_ledger.txt\")\n",
    "df = ledger |> @filter(_.accountid == gl_account_id) |> DataFrame # @filter is defined in the Query package!"
   ]
  },
  {
   "cell_type": "code",
   "execution_count": 17,
   "metadata": {},
   "outputs": [
    {
     "data": {
      "text/plain": [
       "8-element Array{Symbol,1}:\n",
       " :id\n",
       " :accountid\n",
       " :date\n",
       " :customerid\n",
       " :invoice_nbr\n",
       " :debit\n",
       " :credit\n",
       " :descr"
      ]
     },
     "execution_count": 17,
     "metadata": {},
     "output_type": "execute_result"
    }
   ],
   "source": [
    "names(df) # display all column names of the table (you can also use describe(df))"
   ]
  },
  {
   "cell_type": "code",
   "execution_count": 18,
   "metadata": {},
   "outputs": [
    {
     "data": {
      "text/html": [
       "<table class=\"data-frame\"><thead><tr><th></th><th>invoice_nbr</th><th>new</th><th>customerid</th><th>debit</th><th>credit</th><th>descr</th></tr><tr><th></th><th>String</th><th>String</th><th>String</th><th>Float64</th><th>Float64</th><th>String</th></tr></thead><tbody><p>5 rows × 6 columns</p><tr><th>1</th><td>A1001</td><td>2021-01-22</td><td>Scrooge Investment Bank</td><td>1210.0</td><td>0.0</td><td>Learn Smiling</td></tr><tr><th>2</th><td>A1002</td><td>2021-01-22</td><td>Duck City Chronicals</td><td>2420.0</td><td>0.0</td><td>Learn Smiling</td></tr><tr><th>3</th><td>A1002</td><td>2021-01-22</td><td>Duck City Chronicals</td><td>0.0</td><td>2420.0</td><td>Learn Smiling</td></tr><tr><th>4</th><td>A1003</td><td>2021-01-22</td><td>Donalds Hardware Store</td><td>1210.0</td><td>0.0</td><td>Learn Smiling</td></tr><tr><th>5</th><td>A1003</td><td>2021-01-22</td><td>Donalds Hardware Store</td><td>0.0</td><td>1210.0</td><td>Learn Smiling</td></tr></tbody></table>"
      ],
      "text/latex": [
       "\\begin{tabular}{r|cccccc}\n",
       "\t& invoice\\_nbr & new & customerid & debit & credit & descr\\\\\n",
       "\t\\hline\n",
       "\t& String & String & String & Float64 & Float64 & String\\\\\n",
       "\t\\hline\n",
       "\t1 & A1001 & 2021-01-22 & Scrooge Investment Bank & 1210.0 & 0.0 & Learn Smiling \\\\\n",
       "\t2 & A1002 & 2021-01-22 & Duck City Chronicals & 2420.0 & 0.0 & Learn Smiling \\\\\n",
       "\t3 & A1002 & 2021-01-22 & Duck City Chronicals & 0.0 & 2420.0 & Learn Smiling \\\\\n",
       "\t4 & A1003 & 2021-01-22 & Donalds Hardware Store & 1210.0 & 0.0 & Learn Smiling \\\\\n",
       "\t5 & A1003 & 2021-01-22 & Donalds Hardware Store & 0.0 & 1210.0 & Learn Smiling \\\\\n",
       "\\end{tabular}\n"
      ],
      "text/plain": [
       "5×6 DataFrame. Omitted printing of 1 columns\n",
       "│ Row │ invoice_nbr │ new        │ customerid              │ debit   │ credit  │\n",
       "│     │ \u001b[90mString\u001b[39m      │ \u001b[90mString\u001b[39m     │ \u001b[90mString\u001b[39m                  │ \u001b[90mFloat64\u001b[39m │ \u001b[90mFloat64\u001b[39m │\n",
       "├─────┼─────────────┼────────────┼─────────────────────────┼─────────┼─────────┤\n",
       "│ 1   │ A1001       │ 2021-01-22 │ Scrooge Investment Bank │ 1210.0  │ 0.0     │\n",
       "│ 2   │ A1002       │ 2021-01-22 │ Duck City Chronicals    │ 2420.0  │ 0.0     │\n",
       "│ 3   │ A1002       │ 2021-01-22 │ Duck City Chronicals    │ 0.0     │ 2420.0  │\n",
       "│ 4   │ A1003       │ 2021-01-22 │ Donalds Hardware Store  │ 1210.0  │ 0.0     │\n",
       "│ 5   │ A1003       │ 2021-01-22 │ Donalds Hardware Store  │ 0.0     │ 1210.0  │"
      ]
     },
     "execution_count": 18,
     "metadata": {},
     "output_type": "execute_result"
    }
   ],
   "source": [
    "df.new = string.(Date.(df.date)) # add a new column\n",
    "y1 = df[[:invoice_nbr, :new, :customerid, :debit, :credit, :descr]] # filter on column names\n",
    "y2 = sort!(y1, [:invoice_nbr, :new]) # sort on column invoice_nbr and new"
   ]
  },
  {
   "cell_type": "markdown",
   "metadata": {},
   "source": [
    "### Example with query operators\n",
    "\n",
    "See: https://www.queryverse.org/Query.jl/stable/standalonequerycommands/\n",
    "\n",
    "[*back*](#Section-3-\\--Utilities-and-Code-Examples)"
   ]
  },
  {
   "cell_type": "code",
   "execution_count": 19,
   "metadata": {},
   "outputs": [
    {
     "data": {
      "text/html": [
       "<table class=\"data-frame\"><thead><tr><th></th><th>invoice_nbr</th><th>date</th><th>csm</th><th>total</th></tr><tr><th></th><th>String</th><th>String</th><th>String</th><th>Float64</th></tr></thead><tbody><p>1 rows × 4 columns</p><tr><th>1</th><td>A1001</td><td>2021-01-22</td><td>Scrooge Investment Bank</td><td>1210.0</td></tr></tbody></table>"
      ],
      "text/latex": [
       "\\begin{tabular}{r|cccc}\n",
       "\t& invoice\\_nbr & date & csm & total\\\\\n",
       "\t\\hline\n",
       "\t& String & String & String & Float64\\\\\n",
       "\t\\hline\n",
       "\t1 & A1001 & 2021-01-22 & Scrooge Investment Bank & 1210.0 \\\\\n",
       "\\end{tabular}\n"
      ],
      "text/plain": [
       "1×4 DataFrame\n",
       "│ Row │ invoice_nbr │ date       │ csm                     │ total   │\n",
       "│     │ \u001b[90mString\u001b[39m      │ \u001b[90mString\u001b[39m     │ \u001b[90mString\u001b[39m                  │ \u001b[90mFloat64\u001b[39m │\n",
       "├─────┼─────────────┼────────────┼─────────────────────────┼─────────┤\n",
       "│ 1   │ A1001       │ 2021-01-22 │ Scrooge Investment Bank │ 1210.0  │"
      ]
     },
     "execution_count": 19,
     "metadata": {},
     "output_type": "execute_result"
    }
   ],
   "source": [
    "df.total = df.debit.-df.credit # add a new column\n",
    "y3 = df |>\n",
    "    @groupby(_.invoice_nbr) |> \n",
    "    @map({invoice_nbr=key(_), date=first(_.new), csm=first(_.customerid), total=sum(_.total)}) |>\n",
    "    @filter(_.total != 0) |> # comment this line to see all records\n",
    "    DataFrame"
   ]
  },
  {
   "cell_type": "code",
   "execution_count": 20,
   "metadata": {},
   "outputs": [
    {
     "data": {
      "text/html": [
       "<table class=\"data-frame\"><thead><tr><th></th><th>invoice_nbr</th><th>date</th><th>csm</th><th>total</th></tr><tr><th></th><th>String</th><th>String</th><th>String</th><th>Float64</th></tr></thead><tbody><p>2 rows × 4 columns</p><tr><th>1</th><td>A1002</td><td>2021-01-22</td><td>Duck City Chronicals</td><td>0.0</td></tr><tr><th>2</th><td>A1003</td><td>2021-01-22</td><td>Donalds Hardware Store</td><td>0.0</td></tr></tbody></table>"
      ],
      "text/latex": [
       "\\begin{tabular}{r|cccc}\n",
       "\t& invoice\\_nbr & date & csm & total\\\\\n",
       "\t\\hline\n",
       "\t& String & String & String & Float64\\\\\n",
       "\t\\hline\n",
       "\t1 & A1002 & 2021-01-22 & Duck City Chronicals & 0.0 \\\\\n",
       "\t2 & A1003 & 2021-01-22 & Donalds Hardware Store & 0.0 \\\\\n",
       "\\end{tabular}\n"
      ],
      "text/plain": [
       "2×4 DataFrame\n",
       "│ Row │ invoice_nbr │ date       │ csm                    │ total   │\n",
       "│     │ \u001b[90mString\u001b[39m      │ \u001b[90mString\u001b[39m     │ \u001b[90mString\u001b[39m                 │ \u001b[90mFloat64\u001b[39m │\n",
       "├─────┼─────────────┼────────────┼────────────────────────┼─────────┤\n",
       "│ 1   │ A1002       │ 2021-01-22 │ Duck City Chronicals   │ 0.0     │\n",
       "│ 2   │ A1003       │ 2021-01-22 │ Donalds Hardware Store │ 0.0     │"
      ]
     },
     "execution_count": 20,
     "metadata": {},
     "output_type": "execute_result"
    }
   ],
   "source": [
    "df |>\n",
    "    @groupby(_.invoice_nbr) |> \n",
    "    @map({invoice_nbr=key(_), date=first(_.new), csm=first(_.customerid), total=sum(_.total)}) |>\n",
    "    @filter(_.total == 0) |> # comment this line to see all records\n",
    "    DataFrame"
   ]
  },
  {
   "cell_type": "code",
   "execution_count": null,
   "metadata": {},
   "outputs": [],
   "source": []
  }
 ],
 "metadata": {
  "kernelspec": {
   "display_name": "Julia 1.5.3",
   "language": "julia",
   "name": "julia-1.5"
  },
  "language_info": {
   "file_extension": ".jl",
   "mimetype": "application/julia",
   "name": "julia",
   "version": "1.5.3"
  }
 },
 "nbformat": 4,
 "nbformat_minor": 4
}
