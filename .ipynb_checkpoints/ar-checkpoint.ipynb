{
 "cells": [
  {
   "cell_type": "markdown",
   "metadata": {},
   "source": [
    "# Creating the Data Files"
   ]
  },
  {
   "cell_type": "markdown",
   "metadata": {},
   "source": [
    "Below you see the code to create the data files and retrieve data from the Docker container test_sshd and test_sshd2.\n",
    "\n",
    "See also the example code on [AppliAR.jl](https://www.appligate.nl/AppliAR.jl/stable/chapter4/).\n",
    "\n",
    "##### Prerequisites\n",
    "\n",
    "- A processor unit of at least 3 cores.\n",
    "- Ubuntu 20.04.\n",
    "- [Julia 1.5.3](https://www.appligate.nl/BAWJ/stable/appendix/#Install-Julia).\n",
    "- [IJulia package](https://www.appligate.nl/BAWJ/stable/appendix/#Install-IJulia) added.\n",
    "- The packages Bukdu, Distributed, DataFrames, and Query added.\n",
    "- The package AppliAR added (`add https://github.com/rbontekoe/AppliAR.jl`).\n",
    "- [Docker](https://www.appligate.nl/BAWJ/stable/appendix/#Install-Docker) installed.\n",
    "- The two docker containers `test_sshd` and `test_sshd2` created according to the course [BAWJ chapter 13](https://www.appligate.nl/BAWJ/stable/chapter13/).\n",
    "- The GitHub project TestAppliAR cloned (`git clone https://github.com/rbontekoe/TestAppliAR.git`).\n",
    "- The packages AppliSales, AppliGeneralLedger, AppliAR, and Query have also been added to the two containers.\n",
    "- The data files have been created by running the notebook ar.ipynb."
   ]
  },
  {
   "cell_type": "markdown",
   "metadata": {},
   "source": [
    "### Activate the local environment in the TestAppliAR folder\n",
    "\n",
    "The application uses the packages:\n",
    "- [AppliSales](https://github.com/rbontekoe/AppliSales.jl)\n",
    "- [AppliGeneralLegder](https://www.appligate.nl/AppliGeneralLedger.jl/)\n",
    "- [AppliAR](https://www.appligate.nl/AppliAR.jl/stable/) (use: add https://github.com/rbontekoe/AppliAR.jl)\n",
    "- [DataFrames](https://github.com/JuliaData/DataFrames.jl)\n",
    "- [Rocket](https://github.com/biaslab/Rocket.jl)\n",
    "- [Query](https://github.com/queryverse/Query.jl)"
   ]
  },
  {
   "cell_type": "code",
   "execution_count": 1,
   "metadata": {},
   "outputs": [
    {
     "name": "stderr",
     "output_type": "stream",
     "text": [
      "\u001b[32m\u001b[1m Activating\u001b[22m\u001b[39m environment at `~/projects/TestAppliAR/Project.toml`\n"
     ]
    }
   ],
   "source": [
    "using Pkg; Pkg.activate(\".\");"
   ]
  },
  {
   "cell_type": "markdown",
   "metadata": {},
   "source": [
    "### Load [Rocket.jl](https://github.com/biaslab/Rocket.jl), the actor package"
   ]
  },
  {
   "cell_type": "code",
   "execution_count": 2,
   "metadata": {},
   "outputs": [],
   "source": [
    "using Rocket"
   ]
  },
  {
   "cell_type": "markdown",
   "metadata": {},
   "source": [
    "### Start the containers test_sshd and test_sshd2\n",
    "\n",
    "See section 3 `creating the containers` of the course: [BAWJ](https://www.appligate.nl/BAWJ/stable/chapter13/)"
   ]
  },
  {
   "cell_type": "code",
   "execution_count": 3,
   "metadata": {},
   "outputs": [
    {
     "name": "stdout",
     "output_type": "stream",
     "text": [
      "test_sshd\n",
      "test_sshd2\n"
     ]
    },
    {
     "data": {
      "text/plain": [
       "Process(`\u001b[4mdocker\u001b[24m \u001b[4mrestart\u001b[24m \u001b[4mtest_sshd2\u001b[24m`, ProcessExited(0))"
      ]
     },
     "execution_count": 3,
     "metadata": {},
     "output_type": "execute_result"
    }
   ],
   "source": [
    "cmd = `docker restart test_sshd`; run(cmd)\n",
    "cmd = `docker restart test_sshd2`; run(cmd);"
   ]
  },
  {
   "cell_type": "markdown",
   "metadata": {},
   "source": [
    "### Allow distributed computation"
   ]
  },
  {
   "cell_type": "code",
   "execution_count": 4,
   "metadata": {},
   "outputs": [],
   "source": [
    "using Distributed"
   ]
  },
  {
   "cell_type": "markdown",
   "metadata": {},
   "source": [
    "### Connect to the containes test_sshd (General Ledger) and test_sshd2 (Accounts Receivable)"
   ]
  },
  {
   "cell_type": "code",
   "execution_count": 5,
   "metadata": {},
   "outputs": [
    {
     "data": {
      "text/plain": [
       "\"172.17.0.3\""
      ]
     },
     "execution_count": 5,
     "metadata": {},
     "output_type": "execute_result"
    }
   ],
   "source": [
    "# get the is-addresses of the containers\n",
    "cmd_sshd = `docker inspect -f '{{ .NetworkSettings.IPAddress }}' test_sshd`; ip_sshd = read(cmd_sshd, String)\n",
    "cmd_sshd2 = `docker inspect -f '{{ .NetworkSettings.IPAddress }}' test_sshd2`; ip_sshd2 = read(cmd_sshd2, String)\n",
    "# strip \\n\n",
    "ip_sshd = ip_sshd[1:length(ip_sshd)-1] \n",
    "ip_sshd2 = ip_sshd2[1:length(ip_sshd2)-1]"
   ]
  },
  {
   "cell_type": "code",
   "execution_count": 6,
   "metadata": {},
   "outputs": [
    {
     "data": {
      "text/plain": [
       "1-element Array{Int64,1}:\n",
       " 3"
      ]
     },
     "execution_count": 6,
     "metadata": {},
     "output_type": "execute_result"
    }
   ],
   "source": [
    "addprocs([(\"rob@\" * ip_sshd, 1)]; exeflags=`--project=$(Base.active_project())`, tunnel=true, dir=\"/home/rob\")\n",
    "addprocs([(\"rob@\" * ip_sshd2, 1)]; exeflags=`--project=$(Base.active_project())`, tunnel=true, dir=\"/home/rob\")"
   ]
  },
  {
   "cell_type": "markdown",
   "metadata": {},
   "source": [
    "### Assign the two processes"
   ]
  },
  {
   "cell_type": "code",
   "execution_count": 7,
   "metadata": {},
   "outputs": [
    {
     "data": {
      "text/plain": [
       "3"
      ]
     },
     "execution_count": 7,
     "metadata": {},
     "output_type": "execute_result"
    }
   ],
   "source": [
    "gl_pid = procs()[2] # general ledger\n",
    "ar_pid = procs()[3] # accounts receivable (invoices/bankstatements)"
   ]
  },
  {
   "cell_type": "markdown",
   "metadata": {},
   "source": [
    "### Load the packages\n",
    "\n",
    "The packages must also be available in the containers test_sshd and test_sshd2."
   ]
  },
  {
   "cell_type": "code",
   "execution_count": 8,
   "metadata": {},
   "outputs": [],
   "source": [
    "@everywhere using AppliSales\n",
    "@everywhere using AppliGeneralLedger\n",
    "@everywhere using AppliAR\n",
    "@everywhere using Query"
   ]
  },
  {
   "cell_type": "markdown",
   "metadata": {},
   "source": [
    "### Load the actors\n",
    "\n",
    "See: [actors.jl](https://www.appligate.nl/AppliAR.jl/stable/chapter4/#actors.jl)"
   ]
  },
  {
   "cell_type": "code",
   "execution_count": 9,
   "metadata": {},
   "outputs": [],
   "source": [
    "include(\"./src/actors.jl\");"
   ]
  },
  {
   "cell_type": "code",
   "execution_count": 10,
   "metadata": {},
   "outputs": [],
   "source": [
    "sales_actor = SalesActor()\n",
    "ar_actor = ARActor(ar_pid)\n",
    "gl_actor = GLActor(gl_pid)\n",
    "stm_actor = StmActor();"
   ]
  },
  {
   "cell_type": "markdown",
   "metadata": {},
   "source": [
    "### Start the application\n",
    "\n",
    "                           StmActor\n",
    "                              |\n",
    "                              | BankStatement(s)\n",
    "                              ↓       \n",
    "       SalesActor -------> ARActor -------> GLActor\n",
    "                  Order(s)    ↑    Entry(s)    ↑\n",
    "                              ↓                ↓\n",
    "                            Store            Store\n",
    "\n",
    "The SalesActor sends a message with three orders to the ARActor (Accounts Receivable Actor). The ARActor creates three invoices and sends the journal entries to the GLActor (General Ledger Actor). "
   ]
  },
  {
   "cell_type": "code",
   "execution_count": 20,
   "metadata": {},
   "outputs": [
    {
     "data": {
      "text/plain": [
       "3-element Array{AppliSales.Order,1}:\n",
       " AppliSales.Order(\"10768281901969063295\", AppliSales.Organization(\"7098413851735848268\", \"Scrooge Investment Bank\", \"1180 Seven Seas Dr\", \"FL 32830\", \"Lake Buena Vista\", \"USA\"), AppliSales.Training(\"LS\", Dates.DateTime(\"2019-08-30T00:00:00\"), 2, \"Learn Smiling\", 1000.0), \"PO-456\", \"Scrooge McDuck\", \"scrooge@duckcity.com\", [\"Scrooge McDuck\"])\n",
       " AppliSales.Order(\"1901249410867120201\", AppliSales.Organization(\"2782853483338105883\", \"Duck City Chronicals\", \"1185 Seven Seas Dr\", \"FL 32830\", \"Lake Buena Vista\", \"USA\"), AppliSales.Training(\"LS\", Dates.DateTime(\"2019-08-30T00:00:00\"), 2, \"Learn Smiling\", 1000.0), \"DD-001\", \"Mickey Mouse\", \"mickey@duckcity.com\", [\"Mini Mouse\", \"Goofy\"])\n",
       " AppliSales.Order(\"6082499958350773097\", AppliSales.Organization(\"7855438390493228369\", \"Donalds Hardware Store\", \"1190 Seven Seas Dr\", \"FL 32830\", \"Lake Buena Vista\", \"USA\"), AppliSales.Training(\"LS\", Dates.DateTime(\"2019-08-30T00:00:00\"), 2, \"Learn Smiling\", 1000.0), \"\", \"Donald Duck\", \"donald@duckcity.com\", [\"Daisy Duck\"])"
      ]
     },
     "execution_count": 20,
     "metadata": {},
     "output_type": "execute_result"
    }
   ],
   "source": [
    "AppliSales.process() # The three orders"
   ]
  },
  {
   "cell_type": "code",
   "execution_count": 21,
   "metadata": {},
   "outputs": [
    {
     "name": "stderr",
     "output_type": "stream",
     "text": [
      "┌ Info: GLActor completed!\n",
      "└ @ Main /home/rob/projects/TestAppliAR/src/actors.jl:54\n",
      "┌ Info: GLActor completed!\n",
      "└ @ Main /home/rob/projects/TestAppliAR/src/actors.jl:54\n",
      "┌ Info: GLActor completed!\n",
      "└ @ Main /home/rob/projects/TestAppliAR/src/actors.jl:54\n",
      "┌ Info: ARActor Completed!\n",
      "└ @ Main /home/rob/projects/TestAppliAR/src/actors.jl:41\n",
      "┌ Info: SalesActor completed!\n",
      "└ @ Main /home/rob/projects/TestAppliAR/src/actors.jl:24\n"
     ]
    }
   ],
   "source": [
    "subscribe!(from([\"START\"]), sales_actor); # Start the application"
   ]
  },
  {
   "cell_type": "markdown",
   "metadata": {},
   "source": [
    "### Process the two bankstatements"
   ]
  },
  {
   "cell_type": "code",
   "execution_count": 22,
   "metadata": {},
   "outputs": [
    {
     "name": "stdout",
     "output_type": "stream",
     "text": [
      "stms = BankStatement[BankStatement(Dates.Date(\"2020-01-15\"), \"Duck City Chronicals Invoice A1002\", \"NL93INGB\", 2420.0), BankStatement(Dates.Date(\"2020-01-15\"), \"Donalds Hardware Store Bill A1003\", \"NL39INGB\", 1210.0)]\n"
     ]
    },
    {
     "name": "stderr",
     "output_type": "stream",
     "text": [
      "┌ Info: GLActor completed!\n",
      "└ @ Main /home/rob/projects/TestAppliAR/src/actors.jl:54\n",
      "┌ Info: GLActor completed!\n",
      "└ @ Main /home/rob/projects/TestAppliAR/src/actors.jl:54\n",
      "┌ Info: ARActor Completed!\n",
      "└ @ Main /home/rob/projects/TestAppliAR/src/actors.jl:41\n",
      "┌ Info: StmActor completed!\n",
      "└ @ Main /home/rob/projects/TestAppliAR/src/actors.jl:13\n"
     ]
    }
   ],
   "source": [
    "subscribe!(from([\"READ_STMS\"]), stm_actor);"
   ]
  },
  {
   "cell_type": "markdown",
   "metadata": {},
   "source": [
    "### Display General Leger Accounts Receivable (1300)\n",
    "\n",
    "You can play with the accountids of the general ledger:\n",
    "- 1150 Bank\n",
    "- 1300 Accounts Receivable\n",
    "- 4000 VAT\n",
    "- 8000 Sales"
   ]
  },
  {
   "cell_type": "code",
   "execution_count": 23,
   "metadata": {},
   "outputs": [],
   "source": [
    "using DataFrames"
   ]
  },
  {
   "cell_type": "code",
   "execution_count": 24,
   "metadata": {},
   "outputs": [
    {
     "data": {
      "text/plain": [
       "1150"
      ]
     },
     "execution_count": 24,
     "metadata": {},
     "output_type": "execute_result"
    }
   ],
   "source": [
    "gl_account_id = 1150"
   ]
  },
  {
   "cell_type": "code",
   "execution_count": 25,
   "metadata": {},
   "outputs": [
    {
     "data": {
      "text/html": [
       "<table class=\"data-frame\"><thead><tr><th></th><th>invoice_nbr</th><th>customerid</th><th>debit</th><th>credit</th><th>descr</th></tr><tr><th></th><th>String</th><th>String</th><th>Float64</th><th>Float64</th><th>String</th></tr></thead><tbody><p>2 rows × 5 columns</p><tr><th>1</th><td>A1002</td><td>Duck City Chronicals</td><td>2420.0</td><td>0.0</td><td>Learn Smiling</td></tr><tr><th>2</th><td>A1003</td><td>Donalds Hardware Store</td><td>1210.0</td><td>0.0</td><td>Learn Smiling</td></tr></tbody></table>"
      ],
      "text/latex": [
       "\\begin{tabular}{r|ccccc}\n",
       "\t& invoice\\_nbr & customerid & debit & credit & descr\\\\\n",
       "\t\\hline\n",
       "\t& String & String & Float64 & Float64 & String\\\\\n",
       "\t\\hline\n",
       "\t1 & A1002 & Duck City Chronicals & 2420.0 & 0.0 & Learn Smiling \\\\\n",
       "\t2 & A1003 & Donalds Hardware Store & 1210.0 & 0.0 & Learn Smiling \\\\\n",
       "\\end{tabular}\n"
      ],
      "text/plain": [
       "2×5 DataFrame. Omitted printing of 1 columns\n",
       "│ Row │ invoice_nbr │ customerid             │ debit   │ credit  │\n",
       "│     │ \u001b[90mString\u001b[39m      │ \u001b[90mString\u001b[39m                 │ \u001b[90mFloat64\u001b[39m │ \u001b[90mFloat64\u001b[39m │\n",
       "├─────┼─────────────┼────────────────────────┼─────────┼─────────┤\n",
       "│ 1   │ A1002       │ Duck City Chronicals   │ 2420.0  │ 0.0     │\n",
       "│ 2   │ A1003       │ Donalds Hardware Store │ 1210.0  │ 0.0     │"
      ]
     },
     "execution_count": 25,
     "metadata": {},
     "output_type": "execute_result"
    }
   ],
   "source": [
    "gl = @fetchfrom gl_pid AppliGeneralLedger.read_from_file(\"./test_ledger.txt\")\n",
    "df = gl |> @filter(_.accountid == gl_account_id) |> DataFrame\n",
    "df[[:invoice_nbr, :customerid, :debit, :credit, :descr]]"
   ]
  },
  {
   "cell_type": "markdown",
   "metadata": {},
   "source": [
    "### Retrieve Aging Report (Unpaid invoices)"
   ]
  },
  {
   "cell_type": "code",
   "execution_count": 26,
   "metadata": {},
   "outputs": [
    {
     "data": {
      "text/html": [
       "<table class=\"data-frame\"><thead><tr><th></th><th>id_inv</th><th>csm</th><th>inv_date</th><th>amount</th><th>days</th></tr><tr><th></th><th>String</th><th>String</th><th>Dates…</th><th>Float64</th><th>Dates…</th></tr></thead><tbody><p>1 rows × 5 columns</p><tr><th>1</th><td>A1001</td><td>Scrooge Investment Bank</td><td>Date(\"2021-01-22\")</td><td>1210.0</td><td>Day(0)</td></tr></tbody></table>"
      ],
      "text/latex": [
       "\\begin{tabular}{r|ccccc}\n",
       "\t& id\\_inv & csm & inv\\_date & amount & days\\\\\n",
       "\t\\hline\n",
       "\t& String & String & Dates… & Float64 & Dates…\\\\\n",
       "\t\\hline\n",
       "\t1 & A1001 & Scrooge Investment Bank & Date(\"2021-01-22\") & 1210.0 & Day(0) \\\\\n",
       "\\end{tabular}\n"
      ],
      "text/plain": [
       "1×5 DataFrame. Omitted printing of 1 columns\n",
       "│ Row │ id_inv │ csm                     │ inv_date           │ amount  │\n",
       "│     │ \u001b[90mString\u001b[39m │ \u001b[90mString\u001b[39m                  │ \u001b[90mDates.Date\u001b[39m         │ \u001b[90mFloat64\u001b[39m │\n",
       "├─────┼────────┼─────────────────────────┼────────────────────┼─────────┤\n",
       "│ 1   │ A1001  │ Scrooge Investment Bank │ Date(\"2021-01-22\") │ 1210.0  │"
      ]
     },
     "execution_count": 26,
     "metadata": {},
     "output_type": "execute_result"
    }
   ],
   "source": [
    "ar = @fetchfrom ar_pid report()\n",
    "ar |> DataFrame"
   ]
  },
  {
   "cell_type": "markdown",
   "metadata": {},
   "source": [
    "### Remove the data files from the containers\n",
    "\n",
    "The SalesActor creates the orders only one time. To repeat the process, the data files have to be remove otherwise you get dublicated records. Keep in mind that also this notebook has to restarted (shutdown and start), unless you don't run cells 4 untill 12 again."
   ]
  },
  {
   "cell_type": "code",
   "execution_count": 18,
   "metadata": {},
   "outputs": [
    {
     "data": {
      "text/plain": [
       "Process(`\u001b[4mssh\u001b[24m \u001b[4mrob@172.17.0.2\u001b[24m \u001b[4m' rm'\u001b[24m \u001b[4m'test*'\u001b[24m`, ProcessExited(0))"
      ]
     },
     "execution_count": 18,
     "metadata": {},
     "output_type": "execute_result"
    }
   ],
   "source": [
    "cmd = `ssh rob@172.17.0.2 \\ rm test\\*`\n",
    "run(cmd)"
   ]
  },
  {
   "cell_type": "code",
   "execution_count": 19,
   "metadata": {},
   "outputs": [
    {
     "data": {
      "text/plain": [
       "Process(`\u001b[4mssh\u001b[24m \u001b[4mrob@172.17.0.3\u001b[24m \u001b[4m' rm'\u001b[24m \u001b[4m'test*'\u001b[24m \u001b[4minvoicenbr.txt\u001b[24m`, ProcessExited(0))"
      ]
     },
     "execution_count": 19,
     "metadata": {},
     "output_type": "execute_result"
    }
   ],
   "source": [
    "cmd = `ssh rob@172.17.0.3 \\ rm test\\* invoicenbr.txt`\n",
    "run(cmd)"
   ]
  },
  {
   "cell_type": "code",
   "execution_count": null,
   "metadata": {},
   "outputs": [],
   "source": []
  }
 ],
 "metadata": {
  "kernelspec": {
   "display_name": "Julia 1.5.3",
   "language": "julia",
   "name": "julia-1.5"
  },
  "language_info": {
   "file_extension": ".jl",
   "mimetype": "application/julia",
   "name": "julia",
   "version": "1.5.3"
  }
 },
 "nbformat": 4,
 "nbformat_minor": 4
}
