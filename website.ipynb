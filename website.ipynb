{
 "cells": [
  {
   "cell_type": "markdown",
   "metadata": {},
   "source": [
    "## Using the Bukdu Webserver Framework\n",
    "\n",
    "The notebook is split into two sections:\n",
    "- Section 1 - [Start and connect to the containers test_sshd and test_sshd2](#Start-and-connect-to-the-containers-test_sshd-and-test_sshd2)\n",
    "- Section 2 - [Configure and start the website](#Configure-and-start-the-website)\n",
    "- Section 3 - [Utilities](#Utilities)\n",
    "\n",
    "\n",
    "\n",
    "You can also use this code also in a Docker container.\n",
    "\n",
    "**Note:** First run the notebook ar.ipynb to create the datafiles in the containers test_sshd and test_sshd2!"
   ]
  },
  {
   "cell_type": "code",
   "execution_count": 2,
   "metadata": {},
   "outputs": [
    {
     "name": "stderr",
     "output_type": "stream",
     "text": [
      "\u001b[32m\u001b[1m Activating\u001b[22m\u001b[39m environment at `~/projects/TestAppliAR/Project.toml`\n"
     ]
    }
   ],
   "source": [
    "using Pkg; Pkg.activate(\".\")"
   ]
  },
  {
   "cell_type": "code",
   "execution_count": 3,
   "metadata": {},
   "outputs": [],
   "source": [
    "using Bukdu, Distributed, DataFrames, Query, Dates"
   ]
  },
  {
   "cell_type": "markdown",
   "metadata": {},
   "source": [
    "## Start and connect to the containers test_sshd and test_sshd2\n",
    "\n",
    "In this section:\n",
    "- Start the containers\n",
    "- Get the IP-addresses of the Containers\n",
    "- Connect to the Docker containers\n",
    "- Test the Connection - Retrieve the aging report\n",
    "\n",
    "### Start the containers"
   ]
  },
  {
   "cell_type": "code",
   "execution_count": 4,
   "metadata": {},
   "outputs": [
    {
     "name": "stdout",
     "output_type": "stream",
     "text": [
      "test_sshd\n",
      "test_sshd2\n"
     ]
    },
    {
     "data": {
      "text/plain": [
       "Process(`\u001b[4mdocker\u001b[24m \u001b[4mrestart\u001b[24m \u001b[4mtest_sshd2\u001b[24m`, ProcessExited(0))"
      ]
     },
     "execution_count": 4,
     "metadata": {},
     "output_type": "execute_result"
    }
   ],
   "source": [
    "cmd = `docker restart test_sshd`\n",
    "run(cmd)\n",
    "cmd = `docker restart test_sshd2`\n",
    "run(cmd)"
   ]
  },
  {
   "cell_type": "markdown",
   "metadata": {},
   "source": [
    "### Get the IP-addresses of the Containers"
   ]
  },
  {
   "cell_type": "code",
   "execution_count": 5,
   "metadata": {},
   "outputs": [
    {
     "data": {
      "text/plain": [
       "\"172.17.0.3\""
      ]
     },
     "execution_count": 5,
     "metadata": {},
     "output_type": "execute_result"
    }
   ],
   "source": [
    "cmd_sshd = `docker inspect -f '{{ .NetworkSettings.IPAddress }}' test_sshd`\n",
    "cmd_sshd2 = `docker inspect -f '{{ .NetworkSettings.IPAddress }}' test_sshd2`\n",
    "ip_sshd = read(cmd_sshd, String)\n",
    "ip_sshd2 = read(cmd_sshd2, String)\n",
    "ip_sshd = ip_sshd[1:length(ip_sshd)-1] # strip \\n\n",
    "ip_sshd2 = ip_sshd2[1:length(ip_sshd2)-1] # strip \\n"
   ]
  },
  {
   "cell_type": "markdown",
   "metadata": {},
   "source": [
    "### Connect to the Docker containers\n",
    "\n",
    "The course [BAWJ](https://www.appligate.nl/BAWJ/stable/chapter13/#.-Creating-SSH-Enabled-Containers) shows how to create the containers."
   ]
  },
  {
   "cell_type": "code",
   "execution_count": 6,
   "metadata": {},
   "outputs": [
    {
     "data": {
      "text/plain": [
       "3"
      ]
     },
     "execution_count": 6,
     "metadata": {},
     "output_type": "execute_result"
    }
   ],
   "source": [
    "addprocs([(\"rob@\" * ip_sshd, 1)]; exeflags=`--project=$(Base.active_project())`, tunnel=true, dir=\"/home/rob\")\n",
    "addprocs([(\"rob@\" * ip_sshd2, 1)]; exeflags=`--project=$(Base.active_project())`, tunnel=true, dir=\"/home/rob\")\n",
    "gl_pid = procs()[2] # general ledger\n",
    "ar_pid = procs()[3] # accounts receivable (invoices/bankstatements)"
   ]
  },
  {
   "cell_type": "markdown",
   "metadata": {},
   "source": [
    "### Test the Connection - Retrieve the aging report\n",
    "\n",
    "In the containers, you should add to Julia the next packages:\n",
    "- AppliSales\n",
    "- AppliGeneralLedger\n",
    "- AppliAR (add https://github.com/rbontekoe/AppliAR.jl)\n",
    "- Query"
   ]
  },
  {
   "cell_type": "code",
   "execution_count": 7,
   "metadata": {},
   "outputs": [],
   "source": [
    "# Load the packages\n",
    "@everywhere using AppliSales\n",
    "@everywhere using AppliGeneralLedger\n",
    "@everywhere using AppliAR\n",
    "@everywhere using Query"
   ]
  },
  {
   "cell_type": "code",
   "execution_count": 8,
   "metadata": {},
   "outputs": [
    {
     "data": {
      "text/html": [
       "<table class=\"data-frame\"><thead><tr><th></th><th>id_inv</th><th>csm</th><th>inv_date</th><th>amount</th><th>days</th></tr><tr><th></th><th>String</th><th>String</th><th>Date</th><th>Float64</th><th>Day</th></tr></thead><tbody><p>1 rows × 5 columns</p><tr><th>1</th><td>A1001</td><td>Scrooge Investment Bank</td><td>Date(\"2021-01-11\")</td><td>1210.0</td><td>Day(9)</td></tr></tbody></table>"
      ],
      "text/latex": [
       "\\begin{tabular}{r|ccccc}\n",
       "\t& id\\_inv & csm & inv\\_date & amount & days\\\\\n",
       "\t\\hline\n",
       "\t& String & String & Date & Float64 & Day\\\\\n",
       "\t\\hline\n",
       "\t1 & A1001 & Scrooge Investment Bank & Date(\"2021-01-11\") & 1210.0 & Day(9) \\\\\n",
       "\\end{tabular}\n"
      ],
      "text/plain": [
       "1×5 DataFrame. Omitted printing of 1 columns\n",
       "│ Row │ id_inv │ csm                     │ inv_date           │ amount  │\n",
       "│     │ \u001b[90mString\u001b[39m │ \u001b[90mString\u001b[39m                  │ \u001b[90mDate\u001b[39m               │ \u001b[90mFloat64\u001b[39m │\n",
       "├─────┼────────┼─────────────────────────┼────────────────────┼─────────┤\n",
       "│ 1   │ A1001  │ Scrooge Investment Bank │ Date(\"2021-01-11\") │ 1210.0  │"
      ]
     },
     "execution_count": 8,
     "metadata": {},
     "output_type": "execute_result"
    }
   ],
   "source": [
    "ar = @fetchfrom ar_pid report()\n",
    "ar |> DataFrame"
   ]
  },
  {
   "cell_type": "markdown",
   "metadata": {},
   "source": [
    "## Configure and start the website\n",
    "\n",
    "### Define the controller\n",
    "\n",
    "The controller object gives access to the request and response object. See "
   ]
  },
  {
   "cell_type": "code",
   "execution_count": 9,
   "metadata": {},
   "outputs": [],
   "source": [
    "struct WebController <: ApplicationController\n",
    "    conn::Conn\n",
    "end"
   ]
  },
  {
   "cell_type": "markdown",
   "metadata": {},
   "source": [
    "### Load the Functions\n",
    "\n",
    "The functions we use in this example in the router section are located in the file functions.jl. All functions need the object WebController as argument, except for the function template!\n",
    "\n",
    "- template(t::String), the Bootstrap template.\n",
    "- index(c::WebController)\n",
    "- aging_report(c::WebController)\n",
    "\n",
    "#### The function template\n",
    "\n",
    "'Very often, especially on small screens, you want to hide the navigation links and replace them with a button that should reveal them when clicked on.'\n",
    "\n",
    "See w3schools.com: [Collapsing The Navigation Bar](https://www.w3schools.com/bootstrap4/tryit.asp?filename=trybs_navbar_collapse)\n",
    "\n",
    "##### Example, the index function\n",
    "```\n",
    "function index(c::WebController)\n",
    "    render(HTML, template(\"\"\"\n",
    "    <h2>Hello World!</h2>\n",
    "    <p>This is the example from the course <a href='https://www.appligate.nl/BAWJ/stable/'>BAWJ</a>. In \n",
    "    chapter 13 the student learns to create two Docker containers. The containers are used in the\n",
    "    website.</p>\n",
    "    <p>The website can also started from a \n",
    "    <a href='https://github.com/rbontekoe/AppliAR.jl/blob/master/website.ipynb'>IJulia Notebook</a>. This \n",
    "    gives the user more opportunities to experiment.<p>\n",
    "    \"\"\"))\n",
    "end\n",
    "```"
   ]
  },
  {
   "cell_type": "code",
   "execution_count": 10,
   "metadata": {},
   "outputs": [],
   "source": [
    "include(\"functions.jl\");"
   ]
  },
  {
   "cell_type": "markdown",
   "metadata": {},
   "source": [
    "### Define the routes"
   ]
  },
  {
   "cell_type": "code",
   "execution_count": 11,
   "metadata": {},
   "outputs": [
    {
     "data": {
      "text/plain": [
       "\"/gl\""
      ]
     },
     "execution_count": 11,
     "metadata": {},
     "output_type": "execute_result"
    }
   ],
   "source": [
    "routes() do\n",
    "  get(\"/\", WebController, index) # the index function is defined in the file functions.jl\n",
    "  get(\"/agingreport\", WebController, aging_report)\n",
    "  get(\"/gl\", WebController, gl)\n",
    "end"
   ]
  },
  {
   "cell_type": "markdown",
   "metadata": {},
   "source": [
    "### Start the server\n",
    "\n",
    "After starting the web server go to `127.0.0.1:8004`.\n",
    "\n",
    "The webserver listens at port 8004. This port must be opened in Ubuntu if the website is approached from outside your computer.\n",
    "- sudo ufw -h\n",
    "- sudo ufw status\n",
    "- sudo ufw enable\n",
    "- sudo ufw allow 8004/tcp\n",
    "\n",
    "Use `ipconfig` to find your local ip address of your computer, e.g. [192.168.1.35:8004](http://192.168.2.12:8004/)."
   ]
  },
  {
   "cell_type": "code",
   "execution_count": 12,
   "metadata": {},
   "outputs": [
    {
     "name": "stdout",
     "output_type": "stream",
     "text": [
      "Bukdu Listening on \u001b[32m0.0.0.0:8004\u001b[39m\n"
     ]
    },
    {
     "data": {
      "text/plain": [
       "Task (runnable) @0x00007f1f040c9fc0"
      ]
     },
     "execution_count": 12,
     "metadata": {},
     "output_type": "execute_result"
    },
    {
     "name": "stdout",
     "output_type": "stream",
     "text": [
      "\u001b[36mINFO:\u001b[39m\u001b[0m \u001b[0mGET    \u001b[0m \u001b[0mWeb\u001b[38;5;248mController\u001b[39m\u001b[0m       \u001b[0mindex           \u001b[0m200\u001b[0m /\n"
     ]
    }
   ],
   "source": [
    "Bukdu.start(8004, host=\"0.0.0.0\")"
   ]
  },
  {
   "cell_type": "markdown",
   "metadata": {},
   "source": [
    "## Utilities\n",
    "\n",
    "In this section:\n",
    "- Stop the webserver\n",
    "- Playing with the General Ledger accounts"
   ]
  },
  {
   "cell_type": "markdown",
   "metadata": {},
   "source": [
    "### Stop the webserver\n",
    "\n",
    "The command stops the website. The connections to the Docker containers remain intact."
   ]
  },
  {
   "cell_type": "code",
   "execution_count": 1,
   "metadata": {},
   "outputs": [],
   "source": [
    "#Bukdu.stop()"
   ]
  },
  {
   "cell_type": "markdown",
   "metadata": {},
   "source": [
    "### Playing with General Ledger Accounts\n",
    "- 1150 - Bank\n",
    "- 1300 - Accounts Receivable\n",
    "- 4000 - VAT\n",
    "- 8000 - Sales\n",
    "\n",
    "See <a href='https://en.wikibooks.org/wiki/Introducing_Julia/DataFrames'>Introducing Julia/DataFrames</a>"
   ]
  },
  {
   "cell_type": "code",
   "execution_count": 2,
   "metadata": {},
   "outputs": [],
   "source": [
    "using Dates"
   ]
  },
  {
   "cell_type": "code",
   "execution_count": 3,
   "metadata": {},
   "outputs": [
    {
     "data": {
      "text/plain": [
       "1300"
      ]
     },
     "execution_count": 3,
     "metadata": {},
     "output_type": "execute_result"
    }
   ],
   "source": [
    "gl_account_id = 1300"
   ]
  },
  {
   "cell_type": "code",
   "execution_count": 4,
   "metadata": {},
   "outputs": [
    {
     "ename": "LoadError",
     "evalue": "LoadError: UndefVarError: @fetchfrom not defined\nin expression starting at In[4]:1",
     "output_type": "error",
     "traceback": [
      "LoadError: UndefVarError: @fetchfrom not defined\nin expression starting at In[4]:1",
      "",
      "Stacktrace:",
      " [1] top-level scope",
      " [2] include_string(::Function, ::Module, ::String, ::String) at ./loading.jl:1091"
     ]
    }
   ],
   "source": [
    "ledger = @fetchfrom gl_pid AppliGeneralLedger.read_from_file(\"./test_ledger.txt\")\n",
    "df = ledger |> @filter(_.accountid == gl_account_id) |> DataFrame # @filter is defined inthe Query package!"
   ]
  },
  {
   "cell_type": "code",
   "execution_count": 5,
   "metadata": {},
   "outputs": [
    {
     "ename": "LoadError",
     "evalue": "UndefVarError: df not defined",
     "output_type": "error",
     "traceback": [
      "UndefVarError: df not defined",
      "",
      "Stacktrace:",
      " [1] top-level scope at In[5]:1",
      " [2] include_string(::Function, ::Module, ::String, ::String) at ./loading.jl:1091"
     ]
    }
   ],
   "source": [
    "names(df) # or use describe(df)"
   ]
  },
  {
   "cell_type": "code",
   "execution_count": 6,
   "metadata": {},
   "outputs": [
    {
     "ename": "LoadError",
     "evalue": "UndefVarError: df not defined",
     "output_type": "error",
     "traceback": [
      "UndefVarError: df not defined",
      "",
      "Stacktrace:",
      " [1] top-level scope at In[6]:1",
      " [2] include_string(::Function, ::Module, ::String, ::String) at ./loading.jl:1091"
     ]
    }
   ],
   "source": [
    "df.new = string.(Date.(df.date)) # create and add a new column\n",
    "y1 = df[[:invoice_nbr, :new, :customerid, :debit, :credit, :descr]] # filter on column names\n",
    "y2 = sort!(y1, [:invoice_nbr, :new]) # sort on column invoice_nbr and new"
   ]
  },
  {
   "cell_type": "code",
   "execution_count": null,
   "metadata": {},
   "outputs": [],
   "source": []
  }
 ],
 "metadata": {
  "kernelspec": {
   "display_name": "Julia 1.5.3",
   "language": "julia",
   "name": "julia-1.5"
  },
  "language_info": {
   "file_extension": ".jl",
   "mimetype": "application/julia",
   "name": "julia",
   "version": "1.5.3"
  }
 },
 "nbformat": 4,
 "nbformat_minor": 4
}
